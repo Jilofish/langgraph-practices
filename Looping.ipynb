{
 "cells": [
  {
   "cell_type": "code",
   "execution_count": 53,
   "id": "b69d92cc",
   "metadata": {},
   "outputs": [],
   "source": [
    "from langgraph.graph import StateGraph, START, END\n",
    "import random\n",
    "from typing import Dict, List, TypedDict, Optional"
   ]
  },
  {
   "cell_type": "code",
   "execution_count": 54,
   "id": "b8ec05cb",
   "metadata": {},
   "outputs": [],
   "source": [
    "class GameState(TypedDict, total=False):\n",
    "    player_name: str\n",
    "    guesses: List[int]\n",
    "    attempts: int\n",
    "    lower_bound: int\n",
    "    upper_bound: int\n",
    "    target: int\n",
    "    hint: Optional[str]"
   ]
  },
  {
   "cell_type": "code",
   "execution_count": 70,
   "id": "7aeabcf0",
   "metadata": {},
   "outputs": [],
   "source": [
    "def setup(state: GameState) -> GameState:\n",
    "    state[\"attempts\"] = 0\n",
    "    state[\"guesses\"] = []\n",
    "    state[\"lower_bound\"] = 1\n",
    "    state[\"upper_bound\"] = 100\n",
    "    state[\"target\"] = random.randint(1, 100)  # hidden number\n",
    "    return state\n",
    "\n",
    "\n",
    "def guess(state: GameState) -> GameState:\n",
    "    # Simple binary search strategy\n",
    "    g = (state[\"lower_bound\"] + state[\"upper_bound\"]) // 2\n",
    "    state[\"guesses\"].append(g)\n",
    "    state[\"attempts\"] += 1\n",
    "\n",
    "    if g == state[\"target\"]:\n",
    "        state[\"hint\"] = \"correct\"\n",
    "    elif g < state[\"target\"]:\n",
    "        state[\"hint\"] = \"higher\"\n",
    "    else:\n",
    "        state[\"hint\"] = \"lower\"\n",
    "    return state\n",
    "\n",
    "\n",
    "def hint_node(state: GameState) -> GameState:\n",
    "    last_guess = state[\"guesses\"][-1]\n",
    "    if state[\"hint\"] == \"higher\":\n",
    "        state[\"lower_bound\"] = last_guess + 1\n",
    "    elif state[\"hint\"] == \"lower\":\n",
    "        state[\"upper_bound\"] = last_guess - 1\n",
    "    return state\n",
    "\n",
    "def continue_or_end(state: GameState) -> str:\n",
    "    if state[\"hint\"] == \"correct\":\n",
    "        return \"end\"\n",
    "    if state[\"attempts\"] >= 7:\n",
    "        return \"end\"\n",
    "    return \"continue\""
   ]
  },
  {
   "cell_type": "code",
   "execution_count": 71,
   "id": "93d16582",
   "metadata": {},
   "outputs": [],
   "source": [
    "graph = StateGraph(GameState)\n",
    "\n",
    "graph.add_node(\"setup\", setup)\n",
    "graph.add_node(\"guess\", guess)\n",
    "graph.add_node(\"hint_node\", hint_node)\n",
    "\n",
    "graph.add_edge(START, \"setup\")\n",
    "graph.add_edge(\"setup\", \"guess\")\n",
    "\n",
    "graph.add_conditional_edges(\n",
    "    \"guess\",\n",
    "    continue_or_end,\n",
    "    {\n",
    "        \"continue\": \"hint_node\",\n",
    "        \"end\": END,\n",
    "    },\n",
    ")\n",
    "\n",
    "graph.add_edge(\"hint_node\", \"guess\")\n",
    "\n",
    "app = graph.compile()"
   ]
  },
  {
   "cell_type": "code",
   "execution_count": 72,
   "id": "b67fa43c",
   "metadata": {},
   "outputs": [
    {
     "data": {
      "image/png": "[encoded data removed]",
      "text/plain": [
       "<IPython.core.display.Image object>"
      ]
     },
     "metadata": {},
     "output_type": "display_data"
    }
   ],
   "source": [
    "from IPython.display import Image, display\n",
    "display(Image(app.get_graph().draw_mermaid_png()))"
   ]
  },
  {
   "cell_type": "code",
   "execution_count": 86,
   "id": "84a64753",
   "metadata": {},
   "outputs": [
    {
     "name": "stdout",
     "output_type": "stream",
     "text": [
      "Target number: 46\n",
      "Guesses made: [50, 25, 37, 43, 46]\n",
      "Attempts: 5\n",
      "Final hint: correct\n"
     ]
    }
   ],
   "source": [
    "state = GameState(player_name=\"Student\")\n",
    "result = app.invoke(state)\n",
    "\n",
    "print(\"Target number:\", result[\"target\"])\n",
    "print(\"Guesses made:\", result[\"guesses\"])\n",
    "print(\"Attempts:\", result[\"attempts\"])\n",
    "print(\"Final hint:\", result[\"hint\"])\n"
   ]
  }
 ],
 "metadata": {
  "kernelspec": {
   "display_name": ".venv",
   "language": "python",
   "name": "python3"
  },
  "language_info": {
   "codemirror_mode": {
    "name": "ipython",
    "version": 3
   },
   "file_extension": ".py",
   "mimetype": "text/x-python",
   "name": "python",
   "nbconvert_exporter": "python",
   "pygments_lexer": "ipython3",
   "version": "3.13.7"
  }
 },
 "nbformat": 4,
 "nbformat_minor": 5
}
